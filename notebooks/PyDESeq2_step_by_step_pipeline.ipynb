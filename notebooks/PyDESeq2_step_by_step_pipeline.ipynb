{
 "cells": [
  {
   "cell_type": "markdown",
   "id": "7552144d",
   "metadata": {},
   "source": [
    "# PyDESeq2 step-by-step pipeline\n",
    "\n",
    "This notebook details all the steps of the PyDESeq2 pipeline.\n",
    "\n",
    "It allows you to run the PyDESeq2 pipeline on the synthetic data provided in this repository."
   ]
  },
  {
   "cell_type": "code",
   "execution_count": null,
   "id": "399f2c81",
   "metadata": {},
   "outputs": [],
   "source": [
    "import os\n",
    "import pickle as pkl\n",
    "\n",
    "from pydeseq2.DeseqDataSet import DeseqDataSet\n",
    "from pydeseq2.DeseqStats import DeseqStats\n",
    "from pydeseq2.utils import load_example_data"
   ]
  },
  {
   "cell_type": "code",
   "execution_count": null,
   "id": "5c678fa4",
   "metadata": {},
   "outputs": [],
   "source": [
    "SAVE = False  # whether to save the outputs of this notebook"
   ]
  },
  {
   "cell_type": "markdown",
   "id": "13cf8156",
   "metadata": {},
   "source": [
    "## Data loading"
   ]
  },
  {
   "cell_type": "code",
   "execution_count": null,
   "id": "b1f003d8",
   "metadata": {},
   "outputs": [],
   "source": [
    "OUTPUT_PATH = f\"../output_files/synthetic_example\"  # Replace this with the path were you wish to save outputs\n",
    "os.makedirs(OUTPUT_PATH, exist_ok=True)  # Create path if it doesn't exist"
   ]
  },
  {
   "cell_type": "code",
   "execution_count": null,
   "id": "f28a0706",
   "metadata": {},
   "outputs": [],
   "source": [
    "counts_df = load_example_data(\n",
    "    modality=\"raw_counts\",\n",
    "    dataset=\"synthetic\",\n",
    "    debug=False,\n",
    ")"
   ]
  },
  {
   "cell_type": "code",
   "execution_count": null,
   "id": "43158905",
   "metadata": {},
   "outputs": [],
   "source": [
    "clinical_df = load_example_data(\n",
    "    modality=\"clinical\",\n",
    "    dataset=\"synthetic\",\n",
    "    debug=False,\n",
    ")"
   ]
  },
  {
   "cell_type": "code",
   "execution_count": null,
   "id": "d607bfe8",
   "metadata": {
    "scrolled": true
   },
   "outputs": [],
   "source": [
    "counts_df"
   ]
  },
  {
   "cell_type": "code",
   "execution_count": null,
   "id": "e2853727",
   "metadata": {},
   "outputs": [],
   "source": [
    "clinical_df"
   ]
  },
  {
   "cell_type": "markdown",
   "id": "436ee275",
   "metadata": {},
   "source": [
    "Filter out genes that have less than 10 counts in total.\n",
    "There shouldn't be any in the synthetic dataset, but pre-filtering genes is good practice in general."
   ]
  },
  {
   "cell_type": "code",
   "execution_count": null,
   "id": "3b8e8bc8",
   "metadata": {},
   "outputs": [],
   "source": [
    "genes_to_keep = counts_df.columns[counts_df.sum(axis=0) >= 10]\n",
    "len(genes_to_keep)"
   ]
  },
  {
   "cell_type": "code",
   "execution_count": null,
   "id": "b38d3047",
   "metadata": {},
   "outputs": [],
   "source": [
    "counts_df = counts_df[genes_to_keep]"
   ]
  },
  {
   "cell_type": "markdown",
   "id": "89233966",
   "metadata": {},
   "source": [
    "## 1 - Read counts modeling with the `DeseqDataSet` class\n",
    "\n",
    "The `DeseqDataSet` class has two mandatory arguments, `counts_df` and `clinical_df`, as well as a set of optional keyword arguments, among which:\n",
    "\n",
    "- `design_factor`: the name of the column of clinical to be used as a design variable\n",
    "- `refit_cooks`: whether to refit cooks outliers – this is advised, in general.\n",
    "\n",
    "Note: in the case of the provided synthetic data, there won't be any Cooks outliers."
   ]
  },
  {
   "cell_type": "code",
   "execution_count": null,
   "id": "d009534a",
   "metadata": {},
   "outputs": [],
   "source": [
    "dds = DeseqDataSet(\n",
    "    counts_df,\n",
    "    clinical_df,\n",
    "    design_factors=\"condition\",  # compare samples based on the \"condition\" column (\"B\" vs \"A\")\n",
    "    refit_cooks=True,\n",
    "    n_cpus=8,\n",
    ")"
   ]
  },
  {
   "cell_type": "markdown",
   "id": "c0d9dace",
   "metadata": {},
   "source": [
    "## Compute normalization factors"
   ]
  },
  {
   "cell_type": "code",
   "execution_count": null,
   "id": "cca17f14",
   "metadata": {},
   "outputs": [],
   "source": [
    "dds.fit_size_factors()"
   ]
  },
  {
   "cell_type": "code",
   "execution_count": null,
   "id": "6f552345",
   "metadata": {
    "scrolled": true
   },
   "outputs": [],
   "source": [
    "dds.size_factors"
   ]
  },
  {
   "cell_type": "markdown",
   "id": "f7e0793d",
   "metadata": {},
   "source": [
    "## Fit genewise dispersions"
   ]
  },
  {
   "cell_type": "code",
   "execution_count": null,
   "id": "8498f3ca",
   "metadata": {},
   "outputs": [],
   "source": [
    "dds.fit_genewise_dispersions()"
   ]
  },
  {
   "cell_type": "code",
   "execution_count": null,
   "id": "9972c908",
   "metadata": {},
   "outputs": [],
   "source": [
    "dds.genewise_dispersions"
   ]
  },
  {
   "cell_type": "markdown",
   "id": "1a733f66",
   "metadata": {},
   "source": [
    "## Fit dispersion trend coefficients"
   ]
  },
  {
   "cell_type": "code",
   "execution_count": null,
   "id": "a13434e7",
   "metadata": {},
   "outputs": [],
   "source": [
    "dds.fit_dispersion_trend()"
   ]
  },
  {
   "cell_type": "code",
   "execution_count": null,
   "id": "cfe60058",
   "metadata": {
    "scrolled": false
   },
   "outputs": [],
   "source": [
    "dds.trend_coeffs"
   ]
  },
  {
   "cell_type": "code",
   "execution_count": null,
   "id": "22b84eac",
   "metadata": {},
   "outputs": [],
   "source": [
    "dds.fitted_dispersions"
   ]
  },
  {
   "cell_type": "markdown",
   "id": "68356631",
   "metadata": {},
   "source": [
    "## Dispersion priors"
   ]
  },
  {
   "cell_type": "code",
   "execution_count": null,
   "id": "7ad06e5f",
   "metadata": {},
   "outputs": [],
   "source": [
    "dds.fit_dispersion_prior()"
   ]
  },
  {
   "cell_type": "code",
   "execution_count": null,
   "id": "1e9d0404",
   "metadata": {
    "scrolled": true
   },
   "outputs": [],
   "source": [
    "print(f\"logres_prior={dds._squared_logres}, sigma_prior={dds.prior_disp_var}\")"
   ]
  },
  {
   "cell_type": "markdown",
   "id": "d52319ee",
   "metadata": {},
   "source": [
    "## MAP Dispersions"
   ]
  },
  {
   "cell_type": "markdown",
   "id": "14dbb8d4",
   "metadata": {},
   "source": [
    "The `fit_MAP_dispersions` method filters the genes for which dispersion shrinkage is applied.  \n",
    "Indeed, for genes whose MLE dispersions are too high above the trend curve, the original MLE value is kept.  \n",
    "The final values of the dispersions that are used for downstream analysis is stored in `dds.dispersions`."
   ]
  },
  {
   "cell_type": "code",
   "execution_count": null,
   "id": "3efa6156",
   "metadata": {
    "scrolled": true
   },
   "outputs": [],
   "source": [
    "dds.fit_MAP_dispersions()"
   ]
  },
  {
   "cell_type": "code",
   "execution_count": null,
   "id": "58ad42f2",
   "metadata": {
    "scrolled": true
   },
   "outputs": [],
   "source": [
    "dds.MAP_dispersions"
   ]
  },
  {
   "cell_type": "code",
   "execution_count": null,
   "id": "1b3a5e86",
   "metadata": {},
   "outputs": [],
   "source": [
    "dds.dispersions"
   ]
  },
  {
   "cell_type": "markdown",
   "id": "7fabc2e1",
   "metadata": {},
   "source": [
    "## Fit log fold changes\n",
    "\n",
    "Note that in the `DeseqDataSet` object, the log-fold changes are stored in natural log scale,\n",
    "but that the results dataframe output by the `summary` method of `DeseqStats` displays LFCs in log2 scale (see later on)."
   ]
  },
  {
   "cell_type": "code",
   "execution_count": null,
   "id": "8faff174",
   "metadata": {
    "scrolled": false
   },
   "outputs": [],
   "source": [
    "dds.fit_LFC()"
   ]
  },
  {
   "cell_type": "code",
   "execution_count": null,
   "id": "83445a76",
   "metadata": {},
   "outputs": [],
   "source": [
    "dds.LFCs"
   ]
  },
  {
   "cell_type": "markdown",
   "id": "fe15379c",
   "metadata": {},
   "source": [
    "### Calculate Cooks distances and refit (optional) "
   ]
  },
  {
   "cell_type": "code",
   "execution_count": null,
   "id": "002dc68f",
   "metadata": {},
   "outputs": [],
   "source": [
    "dds.calculate_cooks()"
   ]
  },
  {
   "cell_type": "code",
   "execution_count": null,
   "id": "477fd11b",
   "metadata": {},
   "outputs": [],
   "source": [
    "if dds.refit_cooks:\n",
    "    # Replace outlier counts\n",
    "    dds.refit()"
   ]
  },
  {
   "cell_type": "code",
   "execution_count": null,
   "id": "ea69d6a5",
   "metadata": {},
   "outputs": [],
   "source": [
    "### Save everything\n",
    "\n",
    "if SAVE:\n",
    "    with open(os.path.join(OUTPUT_PATH, \"dds_detailed_pipe.pkl\"), \"wb\") as f:\n",
    "        pkl.dump(dds, f)"
   ]
  },
  {
   "cell_type": "markdown",
   "id": "1de24dd1",
   "metadata": {},
   "source": [
    "## 2 - Statistical analysis with the `DeseqStats` class"
   ]
  },
  {
   "cell_type": "markdown",
   "id": "9975fd49",
   "metadata": {},
   "source": [
    "The `DeseqDataSet` class has a unique mandatory arguments, `dds`, which should be a *fitted* `DeseqDataSet` object, as well as a set of optional keyword arguments, among which:\n",
    "\n",
    "- `alpha`: the p-value and adjusted p-value significance threshold\n",
    "- `cooks_filter`: whether to filter p-values based on cooks outliers\n",
    "- `independent_filter`: whether to perform independent filtering to correct p-value trends."
   ]
  },
  {
   "cell_type": "code",
   "execution_count": null,
   "id": "31b39bee",
   "metadata": {
    "scrolled": true
   },
   "outputs": [],
   "source": [
    "stat_res = DeseqStats(dds, alpha=0.05, cooks_filter=True, independent_filter=True)"
   ]
  },
  {
   "cell_type": "markdown",
   "id": "3aecc81f",
   "metadata": {
    "scrolled": true
   },
   "source": [
    "## Wald tests"
   ]
  },
  {
   "cell_type": "code",
   "execution_count": null,
   "id": "1d03508f",
   "metadata": {},
   "outputs": [],
   "source": [
    "stat_res.run_wald_test()"
   ]
  },
  {
   "cell_type": "code",
   "execution_count": null,
   "id": "d631bd42",
   "metadata": {},
   "outputs": [],
   "source": [
    "stat_res.p_values"
   ]
  },
  {
   "cell_type": "markdown",
   "id": "07d1f0c1",
   "metadata": {},
   "source": [
    "### Cooks filtering (optional)\n",
    "\n",
    "Note: in the case of the provided synthetic data, there won't be any outliers."
   ]
  },
  {
   "cell_type": "code",
   "execution_count": null,
   "id": "c811165d",
   "metadata": {},
   "outputs": [],
   "source": [
    "if stat_res.cooks_filter:\n",
    "    stat_res._cooks_filtering()\n",
    "stat_res.p_values"
   ]
  },
  {
   "cell_type": "markdown",
   "id": "da843745",
   "metadata": {},
   "source": [
    "## P-value adjustment"
   ]
  },
  {
   "cell_type": "code",
   "execution_count": null,
   "id": "5c164822",
   "metadata": {},
   "outputs": [],
   "source": [
    "if stat_res.independent_filter:\n",
    "    stat_res._independent_filtering()\n",
    "else:\n",
    "    stat_res._p_value_adjustment()"
   ]
  },
  {
   "cell_type": "code",
   "execution_count": null,
   "id": "14679596",
   "metadata": {},
   "outputs": [],
   "source": [
    "stat_res.padj"
   ]
  },
  {
   "cell_type": "markdown",
   "id": "bd325e60",
   "metadata": {},
   "source": [
    "## Building a results dataframe\n",
    "\n",
    "This dataframe is stored in the `results_df` attribute of the `DeseqStats` class."
   ]
  },
  {
   "cell_type": "code",
   "execution_count": null,
   "id": "04628ab7",
   "metadata": {},
   "outputs": [],
   "source": [
    "stat_res.summary()"
   ]
  },
  {
   "cell_type": "code",
   "execution_count": null,
   "id": "2ef910af",
   "metadata": {},
   "outputs": [],
   "source": [
    "### Save everything\n",
    "\n",
    "if SAVE:\n",
    "    with open(os.path.join(OUTPUT_PATH, \"stat_results_detailed_pipe.pkl\"), \"wb\") as f:\n",
    "        pkl.dump(stat_res, f)"
   ]
  },
  {
   "cell_type": "markdown",
   "id": "be431df7",
   "metadata": {},
   "source": [
    "## LFC Shrinkage\n",
    "\n",
    "For visualization or post-processing purposes, it might be suitable to perform LFC shrinkage. This is implemented by the `lfc_shrink` method."
   ]
  },
  {
   "cell_type": "code",
   "execution_count": null,
   "id": "2886bf6c",
   "metadata": {},
   "outputs": [],
   "source": [
    "stat_res.lfc_shrink()"
   ]
  },
  {
   "cell_type": "code",
   "execution_count": null,
   "id": "67fa0b5c",
   "metadata": {},
   "outputs": [],
   "source": [
    "### Save everything\n",
    "\n",
    "if SAVE:\n",
    "    with open(\n",
    "        os.path.join(OUTPUT_PATH, \"shrunk_stat_results_detailed_pipe.pkl\"), \"wb\"\n",
    "    ) as f:\n",
    "        pkl.dump(stat_res, f)"
   ]
  }
 ],
 "metadata": {
  "kernelspec": {
   "display_name": "Python 3 (ipykernel)",
   "language": "python",
   "name": "python3"
  },
  "language_info": {
   "codemirror_mode": {
    "name": "ipython",
    "version": 3
   },
   "file_extension": ".py",
   "mimetype": "text/x-python",
   "name": "python",
   "nbconvert_exporter": "python",
   "pygments_lexer": "ipython3",
   "version": "3.8.15"
  }
 },
 "nbformat": 4,
 "nbformat_minor": 5
}
