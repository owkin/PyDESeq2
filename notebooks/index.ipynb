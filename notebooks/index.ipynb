{
 "cells": [
  {
   "cell_type": "markdown",
   "id": "06f01643",
   "metadata": {},
   "source": [
    "This notebook is a index linking to PyDESeq2 examples:\n",
    "\n",
    "* [Minimal PyDESeq2 example](./PyDESeq2_minimal_example.ipynb)\n",
    "* [Detailed PyDESeq2 pipeline](./PyDESeq2_step_by_step_pipeline.ipynb)"
   ]
  }
 ],
 "metadata": {
  "kernelspec": {
   "display_name": "Python 3 (ipykernel)",
   "language": "python",
   "name": "python3"
  },
  "language_info": {
   "codemirror_mode": {
    "name": "ipython",
    "version": 3
   },
   "file_extension": ".py",
   "mimetype": "text/x-python",
   "name": "python",
   "nbconvert_exporter": "python",
   "pygments_lexer": "ipython3",
   "version": "3.8.15"
  }
 },
 "nbformat": 4,
 "nbformat_minor": 5
}
