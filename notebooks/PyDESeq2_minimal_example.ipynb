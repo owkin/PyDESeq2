{
 "cells": [
  {
   "cell_type": "markdown",
   "id": "7552144d",
   "metadata": {},
   "source": [
    "# PyDESeq 2 pipeline\n",
    "\n",
    "This notebook gives a minimalistic example of how to perform DEA using PyDESeq2.\n",
    "\n",
    "It allows you to run the PyDESeq2 pipeline on the synthetic data provided in this repository."
   ]
  },
  {
   "cell_type": "code",
   "execution_count": null,
   "id": "399f2c81",
   "metadata": {},
   "outputs": [],
   "source": [
    "import os\n",
    "import pickle as pkl\n",
    "\n",
    "from pydeseq2.DeseqDataSet import DeseqDataSet\n",
    "from pydeseq2.DeseqStats import DeseqStats\n",
    "from pydeseq2.utils import load_example_data"
   ]
  },
  {
   "cell_type": "code",
   "execution_count": null,
   "id": "5c678fa4",
   "metadata": {},
   "outputs": [],
   "source": [
    "SAVE = False  # whether to save the outputs of this notebook"
   ]
  },
  {
   "cell_type": "markdown",
   "id": "13cf8156",
   "metadata": {},
   "source": [
    "## Data loading"
   ]
  },
  {
   "cell_type": "code",
   "execution_count": null,
   "id": "b1f003d8",
   "metadata": {},
   "outputs": [],
   "source": [
    "OUTPUT_PATH = f\"../output_files/synthetic_example\"  # Replace this with the path were you wish to save outputs\n",
    "os.makedirs(OUTPUT_PATH, exist_ok=True)  # Create path if it doesn't exist"
   ]
  },
  {
   "cell_type": "code",
   "execution_count": null,
   "id": "f28a0706",
   "metadata": {
    "scrolled": true
   },
   "outputs": [],
   "source": [
    "counts_df = load_example_data(\n",
    "    modality=\"raw_counts\",\n",
    "    dataset=\"synthetic\",\n",
    "    debug=False,\n",
    ")"
   ]
  },
  {
   "cell_type": "code",
   "execution_count": null,
   "id": "43158905",
   "metadata": {},
   "outputs": [],
   "source": [
    "clinical_df = load_example_data(\n",
    "    modality=\"clinical\",\n",
    "    dataset=\"synthetic\",\n",
    "    debug=False,\n",
    ")"
   ]
  },
  {
   "cell_type": "code",
   "execution_count": null,
   "id": "d607bfe8",
   "metadata": {
    "scrolled": true
   },
   "outputs": [],
   "source": [
    "counts_df"
   ]
  },
  {
   "cell_type": "code",
   "execution_count": null,
   "id": "0ab9ad77",
   "metadata": {},
   "outputs": [],
   "source": [
    "clinical_df"
   ]
  },
  {
   "cell_type": "markdown",
   "id": "436ee275",
   "metadata": {},
   "source": [
    "Filter out genes that have less than 10 counts in total.\n",
    "There shouldn't be any in the synthetic dataset, but pre-filtering genes is good practice in general."
   ]
  },
  {
   "cell_type": "code",
   "execution_count": null,
   "id": "3b8e8bc8",
   "metadata": {},
   "outputs": [],
   "source": [
    "genes_to_keep = counts_df.columns[counts_df.sum(axis=0) >= 10]\n",
    "len(genes_to_keep)"
   ]
  },
  {
   "cell_type": "code",
   "execution_count": null,
   "id": "b38d3047",
   "metadata": {},
   "outputs": [],
   "source": [
    "counts_df = counts_df[genes_to_keep]"
   ]
  },
  {
   "cell_type": "markdown",
   "id": "ad833f50",
   "metadata": {},
   "source": [
    "## 1 - Read counts modeling with the `DeseqDataSet` class\n",
    "\n",
    "We start by creating a `DeseqDataSet` object with the count and clinical data. Here, we use 8 threads, feel free to adapt this to your setup or to set to `None` to use all available CPUs.\n",
    "\n",
    "Another option of interest is the `refit_cooks` argument (set to `True` by default), which controls whether Cooks outlier should be refitted – this is advised, in general.\n",
    "\n",
    "Note: in the case of the provided synthetic data, there won't be any Cooks outliers."
   ]
  },
  {
   "cell_type": "code",
   "execution_count": null,
   "id": "1df3881d",
   "metadata": {},
   "outputs": [],
   "source": [
    "# Start by creating a DeseqDataSet\n",
    "dds = DeseqDataSet(\n",
    "    counts_df,\n",
    "    clinical_df,\n",
    "    design_factors=\"condition\",  # compare samples based on the \"condition\" column (\"B\" vs \"A\")\n",
    "    refit_cooks=True,\n",
    "    n_cpus=8,\n",
    ")"
   ]
  },
  {
   "cell_type": "code",
   "execution_count": null,
   "id": "1cb45f11",
   "metadata": {
    "scrolled": true
   },
   "outputs": [],
   "source": [
    "# Then, run DESeq2 on it\n",
    "dds.deseq2()"
   ]
  },
  {
   "cell_type": "code",
   "execution_count": null,
   "id": "10654253",
   "metadata": {},
   "outputs": [],
   "source": [
    "if SAVE:\n",
    "    with open(os.path.join(OUTPUT_PATH, \"dds.pkl\"), \"wb\") as f:\n",
    "        pkl.dump(dds, f)"
   ]
  },
  {
   "cell_type": "markdown",
   "id": "3c895c31",
   "metadata": {},
   "source": [
    "## 2 - Statistical analysis with the `DeseqStats` class\n",
    "\n",
    "The `DeseqDataSet` class has a unique mandatory arguments, `dds`, which should be a *fitted* `DeseqDataSet` object, as well as a set of optional keyword arguments, among which:\n",
    "\n",
    "- `alpha`: the p-value and adjusted p-value significance threshold (0.05 by default),\n",
    "- `cooks_filter`: whether to filter p-values based on cooks outliers (True by default),\n",
    "- `independent_filter`: whether to perform independent filtering to correct p-value trends (True by default)."
   ]
  },
  {
   "cell_type": "code",
   "execution_count": null,
   "id": "0070071a",
   "metadata": {},
   "outputs": [],
   "source": [
    "stat_res = DeseqStats(dds, n_cpus=8)"
   ]
  },
  {
   "cell_type": "markdown",
   "id": "622c485d",
   "metadata": {},
   "source": [
    "### Wald test\n",
    "\n",
    "The `summary` function runs the statistical analysis (multiple testing adjustement included) and returns a summary DataFrame."
   ]
  },
  {
   "cell_type": "code",
   "execution_count": null,
   "id": "48a1b087",
   "metadata": {
    "scrolled": true
   },
   "outputs": [],
   "source": [
    "stat_res.summary()"
   ]
  },
  {
   "cell_type": "code",
   "execution_count": null,
   "id": "eee2292c",
   "metadata": {},
   "outputs": [],
   "source": [
    "if SAVE:\n",
    "    with open(os.path.join(OUTPUT_PATH, \"stat_results.pkl\"), \"wb\") as f:\n",
    "        pkl.dump(stat_res, f)"
   ]
  },
  {
   "cell_type": "markdown",
   "id": "daa6a572",
   "metadata": {},
   "source": [
    "### LFC shrinkage\n",
    "\n",
    "For visualization or post-processing purposes, it might be suitable to perform LFC shrinkage. This is implemented by the `lfc_shrink` method."
   ]
  },
  {
   "cell_type": "code",
   "execution_count": null,
   "id": "1284082d",
   "metadata": {
    "scrolled": true
   },
   "outputs": [],
   "source": [
    "stat_res.lfc_shrink()"
   ]
  },
  {
   "cell_type": "code",
   "execution_count": null,
   "id": "39c6cefe",
   "metadata": {},
   "outputs": [],
   "source": [
    "if SAVE:\n",
    "    with open(os.path.join(OUTPUT_PATH, \"shrunk_stat_results.pkl\"), \"wb\") as f:\n",
    "        pkl.dump(stat_res, f)"
   ]
  }
 ],
 "metadata": {
  "kernelspec": {
   "display_name": "Python 3 (ipykernel)",
   "language": "python",
   "name": "python3"
  },
  "language_info": {
   "codemirror_mode": {
    "name": "ipython",
    "version": 3
   },
   "file_extension": ".py",
   "mimetype": "text/x-python",
   "name": "python",
   "nbconvert_exporter": "python",
   "pygments_lexer": "ipython3",
   "version": "3.8.15"
  }
 },
 "nbformat": 4,
 "nbformat_minor": 5
}
